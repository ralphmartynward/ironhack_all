{
 "cells": [
  {
   "cell_type": "code",
   "execution_count": 1,
   "metadata": {},
   "outputs": [],
   "source": [
    "import pandas as pd\n",
    "from scipy.stats import ttest_ind"
   ]
  },
  {
   "cell_type": "code",
   "execution_count": 2,
   "metadata": {},
   "outputs": [
    {
     "data": {
      "text/html": [
       "<div>\n",
       "<style scoped>\n",
       "    .dataframe tbody tr th:only-of-type {\n",
       "        vertical-align: middle;\n",
       "    }\n",
       "\n",
       "    .dataframe tbody tr th {\n",
       "        vertical-align: top;\n",
       "    }\n",
       "\n",
       "    .dataframe thead th {\n",
       "        text-align: right;\n",
       "    }\n",
       "</style>\n",
       "<table border=\"1\" class=\"dataframe\">\n",
       "  <thead>\n",
       "    <tr style=\"text-align: right;\">\n",
       "      <th></th>\n",
       "      <th>distance</th>\n",
       "      <th>consume</th>\n",
       "      <th>temp_inside</th>\n",
       "      <th>temp_outside</th>\n",
       "      <th>gas_type</th>\n",
       "      <th>ac</th>\n",
       "      <th>rain</th>\n",
       "      <th>sun</th>\n",
       "      <th>temp_diff</th>\n",
       "      <th>fuel_used</th>\n",
       "      <th>cost_of_trip</th>\n",
       "      <th>trip_in_hours</th>\n",
       "      <th>avg_speed</th>\n",
       "    </tr>\n",
       "  </thead>\n",
       "  <tbody>\n",
       "    <tr>\n",
       "      <th>0</th>\n",
       "      <td>28.0</td>\n",
       "      <td>5.0</td>\n",
       "      <td>21.5</td>\n",
       "      <td>12</td>\n",
       "      <td>E10</td>\n",
       "      <td>0</td>\n",
       "      <td>0</td>\n",
       "      <td>0</td>\n",
       "      <td>9.5</td>\n",
       "      <td>1.4000</td>\n",
       "      <td>2.863</td>\n",
       "      <td>0.433333</td>\n",
       "      <td>64.615385</td>\n",
       "    </tr>\n",
       "    <tr>\n",
       "      <th>1</th>\n",
       "      <td>12.0</td>\n",
       "      <td>4.2</td>\n",
       "      <td>21.5</td>\n",
       "      <td>13</td>\n",
       "      <td>E10</td>\n",
       "      <td>0</td>\n",
       "      <td>0</td>\n",
       "      <td>0</td>\n",
       "      <td>8.5</td>\n",
       "      <td>0.5040</td>\n",
       "      <td>1.031</td>\n",
       "      <td>0.500000</td>\n",
       "      <td>24.000000</td>\n",
       "    </tr>\n",
       "    <tr>\n",
       "      <th>2</th>\n",
       "      <td>11.2</td>\n",
       "      <td>5.5</td>\n",
       "      <td>21.5</td>\n",
       "      <td>15</td>\n",
       "      <td>E10</td>\n",
       "      <td>0</td>\n",
       "      <td>0</td>\n",
       "      <td>0</td>\n",
       "      <td>6.5</td>\n",
       "      <td>0.6160</td>\n",
       "      <td>1.260</td>\n",
       "      <td>0.633333</td>\n",
       "      <td>17.684211</td>\n",
       "    </tr>\n",
       "    <tr>\n",
       "      <th>3</th>\n",
       "      <td>12.9</td>\n",
       "      <td>3.9</td>\n",
       "      <td>21.5</td>\n",
       "      <td>14</td>\n",
       "      <td>E10</td>\n",
       "      <td>0</td>\n",
       "      <td>0</td>\n",
       "      <td>0</td>\n",
       "      <td>7.5</td>\n",
       "      <td>0.5031</td>\n",
       "      <td>1.029</td>\n",
       "      <td>0.600000</td>\n",
       "      <td>21.500000</td>\n",
       "    </tr>\n",
       "    <tr>\n",
       "      <th>4</th>\n",
       "      <td>18.5</td>\n",
       "      <td>4.5</td>\n",
       "      <td>21.5</td>\n",
       "      <td>15</td>\n",
       "      <td>E10</td>\n",
       "      <td>0</td>\n",
       "      <td>0</td>\n",
       "      <td>0</td>\n",
       "      <td>6.5</td>\n",
       "      <td>0.8325</td>\n",
       "      <td>1.702</td>\n",
       "      <td>0.766667</td>\n",
       "      <td>24.130435</td>\n",
       "    </tr>\n",
       "  </tbody>\n",
       "</table>\n",
       "</div>"
      ],
      "text/plain": [
       "   distance  consume  temp_inside  temp_outside gas_type  ac  rain  sun  \\\n",
       "0      28.0      5.0         21.5            12      E10   0     0    0   \n",
       "1      12.0      4.2         21.5            13      E10   0     0    0   \n",
       "2      11.2      5.5         21.5            15      E10   0     0    0   \n",
       "3      12.9      3.9         21.5            14      E10   0     0    0   \n",
       "4      18.5      4.5         21.5            15      E10   0     0    0   \n",
       "\n",
       "   temp_diff  fuel_used  cost_of_trip  trip_in_hours  avg_speed  \n",
       "0        9.5     1.4000         2.863       0.433333  64.615385  \n",
       "1        8.5     0.5040         1.031       0.500000  24.000000  \n",
       "2        6.5     0.6160         1.260       0.633333  17.684211  \n",
       "3        7.5     0.5031         1.029       0.600000  21.500000  \n",
       "4        6.5     0.8325         1.702       0.766667  24.130435  "
      ]
     },
     "execution_count": 2,
     "metadata": {},
     "output_type": "execute_result"
    }
   ],
   "source": [
    "data = pd.read_csv('Cobify_clean_data.csv')\n",
    "data.head()"
   ]
  },
  {
   "cell_type": "markdown",
   "metadata": {},
   "source": [
    "## The Null hypothesis is that the consumption of the different fuels are the same."
   ]
  },
  {
   "cell_type": "markdown",
   "metadata": {},
   "source": [
    "### We will run a one-sided ttest to determine if we can accept or reject our hypothesis."
   ]
  },
  {
   "cell_type": "code",
   "execution_count": 8,
   "metadata": {},
   "outputs": [
    {
     "name": "stdout",
     "output_type": "stream",
     "text": [
      "The p-value of the test is: 0.27679289437741406\n",
      "The stat value of the test is: 1.089091767035112\n"
     ]
    }
   ],
   "source": [
    "stat, pval = ttest_ind(data[data.gas_type == 'E10'].fuel_used,data[data.gas_type == 'SP98'].fuel_used)\n",
    "print('The p-value of the test is:',pval)\n",
    "print('The stat value of the test is:',stat)"
   ]
  },
  {
   "cell_type": "markdown",
   "metadata": {},
   "source": [
    "### The p-value is over the threshhold of 0.05 so we can accept our hypothesis that the two fuel types are consumed almost equally "
   ]
  },
  {
   "cell_type": "markdown",
   "metadata": {},
   "source": [
    "## Our second hypothesis is that the fuel types cost about the same for per trip."
   ]
  },
  {
   "cell_type": "code",
   "execution_count": 7,
   "metadata": {},
   "outputs": [
    {
     "name": "stdout",
     "output_type": "stream",
     "text": [
      "The p-value of the test is: 0.5077884541382895\n",
      "The stat value of the test is: 0.6629028015838113\n"
     ]
    }
   ],
   "source": [
    "stat, pval = ttest_ind(data[data.gas_type == 'E10'].cost_of_trip,data[data.gas_type == 'SP98'].cost_of_trip)\n",
    "print('The p-value of the test is:',pval)\n",
    "print('The stat value of the test is:',stat)"
   ]
  },
  {
   "cell_type": "markdown",
   "metadata": {},
   "source": [
    "### The p-value is over the threshhold of 0.05 so we can accept our hypothesis that the two fuel types currently cost about the same per trip usage."
   ]
  },
  {
   "cell_type": "markdown",
   "metadata": {},
   "source": [
    "### There is a big discrepancy, however, between the current price of each fuel and the historical prices.  Generally speaking, the price of SP98 has been significantly higher than that of E10.  This would have a huge impact on our hypothesis depending on the fluctuations of the current price of each fuel."
   ]
  },
  {
   "cell_type": "code",
   "execution_count": null,
   "metadata": {},
   "outputs": [],
   "source": []
  },
  {
   "cell_type": "code",
   "execution_count": null,
   "metadata": {},
   "outputs": [],
   "source": []
  },
  {
   "cell_type": "code",
   "execution_count": null,
   "metadata": {},
   "outputs": [],
   "source": []
  },
  {
   "cell_type": "code",
   "execution_count": null,
   "metadata": {},
   "outputs": [],
   "source": []
  },
  {
   "cell_type": "code",
   "execution_count": null,
   "metadata": {},
   "outputs": [],
   "source": []
  },
  {
   "cell_type": "code",
   "execution_count": null,
   "metadata": {},
   "outputs": [],
   "source": []
  },
  {
   "cell_type": "code",
   "execution_count": null,
   "metadata": {},
   "outputs": [],
   "source": []
  },
  {
   "cell_type": "code",
   "execution_count": null,
   "metadata": {},
   "outputs": [],
   "source": []
  },
  {
   "cell_type": "code",
   "execution_count": null,
   "metadata": {},
   "outputs": [],
   "source": []
  },
  {
   "cell_type": "code",
   "execution_count": null,
   "metadata": {},
   "outputs": [],
   "source": []
  },
  {
   "cell_type": "code",
   "execution_count": null,
   "metadata": {},
   "outputs": [],
   "source": []
  },
  {
   "cell_type": "code",
   "execution_count": null,
   "metadata": {},
   "outputs": [],
   "source": []
  }
 ],
 "metadata": {
  "kernelspec": {
   "display_name": "Python 3",
   "language": "python",
   "name": "python3"
  },
  "language_info": {
   "codemirror_mode": {
    "name": "ipython",
    "version": 3
   },
   "file_extension": ".py",
   "mimetype": "text/x-python",
   "name": "python",
   "nbconvert_exporter": "python",
   "pygments_lexer": "ipython3",
   "version": "3.8.3"
  }
 },
 "nbformat": 4,
 "nbformat_minor": 4
}
